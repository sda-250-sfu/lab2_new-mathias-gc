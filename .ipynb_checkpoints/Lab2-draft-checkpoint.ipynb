{
 "cells": [
  {
   "cell_type": "markdown",
   "metadata": {},
   "source": [
    "# Lab 2 - Data Types, String/File Processing, Encodings\n",
    "\n",
    "In this second lab we will be looking at some of the more important skills needed to do text analysis. In order to start doing text analysis you first need to have text to analyze. This text will be stored in various data types. In the last lab you already saw two data types: int(for storing whole numbers) and strings. In this lab we will look at other important data types needed to do text processing.\n",
    "\n",
    "Next we will look at string and file processing. We will learn how to read data to and from text files, how to store the data in data types such as strings and lists. And then we will do string processing on this data that is now stored in a string or list.\n",
    "\n",
    "Lastly one of the most important things is file encodings. Computers store data as 0s and 1s so in order to read a text file we need to convert those 0s and 1s to letters. This is done using an encoding scheme. The problem is that there are lots of encoding schemes and different ones are used all the time. Some of the more common ones are utf-8 and utf-16 as well as latin1. So whenever you open a text file you need to make sure you are using the correct encoding scheme.\n",
    "\n",
    "### Data Types\n",
    "\n",
    "Data types are one of the basic building blocks of your code. As mentioned earlier, data types are used to store information which we can then work with in various ways. In python the data type is automatically determined when you first assign a value to a variable. So when we assigned the number '18' to the variable 'age' in the last lab, the variable 'age' was turned into an integer data type.\n",
    "\n",
    "#### Storing Numbers\n",
    "\n",
    "For storing numbers there are two data types: the `int` data type for whole numbers and the `float` data type for decimal numbers. The `int` data type will store things like word counts and sentence counts and the `float` data type will store things like average word length.\n",
    "\n",
    "Work through the following code block:"
   ]
  },
  {
   "cell_type": "code",
   "execution_count": 5,
   "metadata": {},
   "outputs": [
    {
     "name": "stdout",
     "output_type": "stream",
     "text": [
      "<class 'int'>\n",
      "<class 'float'>\n",
      "19.666666666666668\n"
     ]
    }
   ],
   "source": [
    "# The following three variables are of type int since they contain whole numbers\n",
    "age1 = 18\n",
    "age2 = 22\n",
    "age3 = 19\n",
    "\n",
    "# to find the data type you can use 'type()'\n",
    "print(type(age1))\n",
    "\n",
    "# complete the computation to find the average age:\n",
    "# hint: add the ages and divide by 3\n",
    "averageAge = (age1 + age2 + age3) / 3\n",
    "\n",
    "# finally print the value of averageAge and its data type:\n",
    "print(type(averageAge))\n",
    "print(averageAge)"
   ]
  },
  {
   "cell_type": "markdown",
   "metadata": {},
   "source": [
    "#### Storing Text\n",
    "\n",
    "We already encountered the `string` data type for saving text data. Another important data type is `list`. The `list` data type holds multiple items in a list format and each item can be accessed by its index. The index for the first item in the list starts at 0 and increments by one.\n",
    "\n",
    "While we will often use the list data type for storing words or text data it can be used for anything since it is just a way to store multiple objects in a list format.\n",
    "\n",
    "Work through the next code block:"
   ]
  },
  {
   "cell_type": "code",
   "execution_count": 6,
   "metadata": {},
   "outputs": [
    {
     "name": "stdout",
     "output_type": "stream",
     "text": [
      "['Daisy', 'picks', 'some', 'flowers', '.']\n",
      "Daisy\n"
     ]
    }
   ],
   "source": [
    "# to assign a list variable put all items in quotes, separated by commas, and enclosed in square brackets:\n",
    "sentence1 = [\"Daisy\", \"picks\", \"some\", \"flowers\", \".\"]\n",
    "\n",
    "# we can print the contents of this variable like any other variable by using print()\n",
    "print(sentence1)\n",
    "\n",
    "# we can also print each item individually by putting the index of the item we want in square brackets:\n",
    "print(sentence1[0])"
   ]
  },
  {
   "cell_type": "code",
   "execution_count": 7,
   "metadata": {},
   "outputs": [
    {
     "name": "stdout",
     "output_type": "stream",
     "text": [
      "Daisy picks flowers.\n"
     ]
    }
   ],
   "source": [
    "# now using string concatenation print the sentence \"Daisy picks flowers.\"\n",
    "# remember to add the spaces between the words\n",
    "\n",
    "sentence2 = \"Daisy\" + \" \" + \"picks\" + \" \" + \"flowers\" + \".\"\n",
    "print(sentence2)"
   ]
  },
  {
   "cell_type": "markdown",
   "metadata": {},
   "source": [
    "The last data type we will look at is the dictionary. A dictionary is very similar to a list but instead of accessing it using an index starting at 0 we assign each value a special index. This special index is called the key. \n",
    "\n",
    "There are various ways to create a dict data type. We will use this type: \n",
    "`dictName = {'key1':'value1', 'key2':'value2'}`\n",
    "To read about the other ways of creating a dict, and for a good overview of some of the functions we can use with the dict data type view this [dict tutorial](https://realpython.com/python-dicts/)\n",
    "\n",
    "One use may be for storing token counts of files. I will demonstrate this use in the following code block."
   ]
  },
  {
   "cell_type": "code",
   "execution_count": 2,
   "metadata": {},
   "outputs": [
    {
     "name": "stdout",
     "output_type": "stream",
     "text": [
      "29093\n"
     ]
    }
   ],
   "source": [
    "# Dictionary for storing token counts per file\n",
    "tokenCount = {'file1':13200, 'file2':12093, 'file':29093}\n",
    "\n",
    "# to call up the token count of a certain file pass the key as an argument to the dict\n",
    "print(tokenCount['file'])"
   ]
  },
  {
   "cell_type": "markdown",
   "metadata": {},
   "source": [
    "### File Processing\n",
    "\n",
    "To understand file processing and encodings read the file manipulation tutorial which will give an overview of all of the techniques and functions you will be using: [file manipulation](https://realpython.com/read-write-files-python/)\n",
    "\n",
    "Opening a file using the `with open() as` will store the opened file in a data type that we can then use to read the file contents and store the contents to a variable. I will demonstrate how to open a file and save the contents to a string variable."
   ]
  },
  {
   "cell_type": "code",
   "execution_count": 5,
   "metadata": {},
   "outputs": [
    {
     "name": "stdout",
     "output_type": "stream",
     "text": [
      "{\\rtf1\\ansi\\ansicpg1252\\cocoartf2577\n",
      "\\cocoatextscaling0\\cocoaplatform0{\\fonttbl\\f0\\fswiss\\fcharset0 Helvetica;}\n",
      "{\\colortbl;\\red255\\green255\\blue255;}\n",
      "{\\*\\expandedcolortbl;;}\n",
      "\\margl1440\\margr1440\\vieww11520\\viewh8400\\viewkind0\n",
      "\\pard\\tx566\\tx1133\\tx1700\\tx2267\\tx2834\\tx3401\\tx3968\\tx4535\\tx5102\\tx5669\\tx6236\\tx6803\\pardirnatural\\partightenfactor0\n",
      "\n",
      "\\f0\\fs24 \\cf0 Hello world, this is a text file.}\n"
     ]
    }
   ],
   "source": [
    "# First, create a text file somewhere in your computer. Write/paste a couple of sentences and save the file\n",
    "# Set path to file. Change this to the directory in your computer where you have a file\n",
    "from pathlib import Path\n",
    "\n",
    "folder = Path(\"/Users/mathiasgausachs/SDA 250/\")\n",
    "\n",
    "filePath = folder / \"lab2text.rtf\"\n",
    "\n",
    "# open the file as \"r\" or read only and store this opened file in f\n",
    "with open(filePath, \"r\") as f:\n",
    "    # read the data from f and store it in the string variable \"data\"\n",
    "    data = f.read()\n",
    "    \n",
    "# we can now print the data\n",
    "print(data)"
   ]
  },
  {
   "cell_type": "markdown",
   "metadata": {},
   "source": [
    "### Importing Libraries\n",
    "\n",
    "Python only comes with a very basic set of functions that we can use such as `print()` this means that if we want to do more interesting things, like get word count or sentence count, we need to import libraries that let us do so. A library is like a collection of functions that we can use in our programs. To import a library we just put the `import` command followed by the name of the library before we use functions from that library.\n",
    "\n",
    "Two libraries, or modules, that we will be using in this lab are `os` and `nltk`. The `os` module will be used for moving around the file system and listing files in a given directory. The `nltk` module contains many usefull functions for text processing and we will use it throughout the semester.\n",
    "\n",
    "First we will look at NLTK. Run the module below and enter \"d\" for download and then \"book\" to download the book dataset from nltk. When it is finished downloading enter \"q\" to exit the download screen. For a list of all the datasets included in nltk you can enter \"l\"."
   ]
  },
  {
   "cell_type": "code",
   "execution_count": 6,
   "metadata": {},
   "outputs": [
    {
     "name": "stdout",
     "text": [
      "showing info https://raw.githubusercontent.com/nltk/nltk_data/gh-pages/index.xml\n"
     ]
    },
    {
     "data": {
      "text/plain": [
       "True"
      ]
     },
     "execution_count": 6,
     "metadata": {},
     "output_type": "execute_result"
    }
   ],
   "source": [
    "# first we import the NLTK module\n",
    "import nltk\n",
    "\n",
    "# after importing we will download the dataset\n",
    "nltk.download()"
   ]
  },
  {
   "cell_type": "markdown",
   "metadata": {},
   "source": [
    "Now that the data set has been downloaded we can import it using `from nltk.book import *`. After importing we will look at some functions introduced in chapter 1 of the [nltk textbook](http://www.nltk.org/book/ch01.html)."
   ]
  },
  {
   "cell_type": "code",
   "execution_count": 13,
   "metadata": {},
   "outputs": [],
   "source": [
    "# import the data set\n",
    "from nltk.book import *\n",
    "\n",
    "# I usually try to avoid 'import *'"
   ]
  },
  {
   "cell_type": "code",
   "execution_count": 18,
   "metadata": {},
   "outputs": [
    {
     "name": "stdout",
     "output_type": "stream",
     "text": [
      "<Text: Moby Dick by Herman Melville 1851>\n",
      "<Text: Sense and Sensibility by Jane Austen 1811>\n",
      "<Text: Inaugural Address Corpus>\n"
     ]
    }
   ],
   "source": [
    "# we can check what each text is by simply entering the text1-text9\n",
    "print(text1)\n",
    "print(text2)\n",
    "print(text4)"
   ]
  },
  {
   "cell_type": "code",
   "execution_count": 23,
   "metadata": {},
   "outputs": [
    {
     "name": "stdout",
     "output_type": "stream",
     "text": [
      "260819\n",
      "507\n",
      "what word do you want: captain\n",
      "0.04294165685782094\n"
     ]
    }
   ],
   "source": [
    "# one basic function is len() which returns the length of the text\n",
    "print(len(text1))\n",
    "\n",
    "# another is count() which will count the number of occurences of a word\n",
    "print(text1.count(\"ship\"))\n",
    "\n",
    "# we can do some basic calculations such as what percentage of the text is made up by a specific word\n",
    "word = input('what word do you want: ')\n",
    "percentage = 100 * text1.count(word)/len(text1)\n",
    "print(percentage)"
   ]
  },
  {
   "cell_type": "markdown",
   "metadata": {},
   "source": [
    "Like mentioned earlier, the `os` library is used for interacting with the filesystem. Some usefull functions are `getcwd()` which prints your current directory, `listdir()` which lists all files in your current directory and `rename()` which lets you rename a file in the directory."
   ]
  },
  {
   "cell_type": "code",
   "execution_count": 24,
   "metadata": {},
   "outputs": [
    {
     "name": "stdout",
     "output_type": "stream",
     "text": [
      "/Users/mathiasgausachs/Documents/GitHub/lab2_new-mathias-gc\n",
      "['dataset1', '.ipynb_checkpoints', 'Lab2-draft.ipynb', '.git']\n"
     ]
    }
   ],
   "source": [
    "# first lets import the os module\n",
    "import os\n",
    "\n",
    "# next we can print our current directory\n",
    "# notice how we need to specify the module first followed by the function\n",
    "print(os.getcwd())\n",
    "\n",
    "# next we list the contents of our current directory\n",
    "print(os.listdir())"
   ]
  },
  {
   "cell_type": "markdown",
   "metadata": {},
   "source": [
    "When we printed the contents of our current folder you saw that there is a subfolder called 'dataset1'. In the next code block you will print the contents of that subfolder so that you know how many files you have for the last assignment in this lab.\n",
    "\n",
    "In order to print the contents of a subfolder you will need to provide the path to that folder as an argument to the `listdir()` function. However the path to our current folder can be quiet lengthy but there is a way to shorten this. In python when you deal with paths there are two \"shortcuts\". A single period `.` means \"starting from the current directory\". So if we want to list the contents of the subfolder \"dataset1\" we would simply provide `./dataset1/`. If we wanted to go up one directory from our current directory you would use `..` which means \"go up one directory\"."
   ]
  },
  {
   "cell_type": "code",
   "execution_count": 28,
   "metadata": {},
   "outputs": [
    {
     "name": "stdout",
     "output_type": "stream",
     "text": [
      "['.DS_Store', 'lab2_new-mathias-gc', 'lab-1-mathias-gc', 'desktop-tutorial']\n",
      "['adventuresOfHuckleberryFinn.txt', 'aTaleOfTwoCities.txt', 'prideAndPrejudice.txt']\n"
     ]
    }
   ],
   "source": [
    "# This will list the contents of the directory above where we currently are\n",
    "print(os.listdir(\"../\"))\n",
    "\n",
    "# now print the contents of the \"dataset1\" directory\n",
    "print(os.listdir(\"./dataset1\"))"
   ]
  },
  {
   "cell_type": "markdown",
   "metadata": {},
   "source": [
    "Now, to put everything together, write a small script that gets the data from the dataset included with this lab. Since there are 3 files included in the dataset1 folder you will need to `open()` and `read()` 3 times. Then pick 3 words and find what percentage of the text they make up together. Your output should look something like this:\n",
    "```\n",
    "text1:\n",
    "word1 percentage = x%\n",
    "word2 percentage = y%\n",
    "word3 percentage = z%\n",
    "total percentage = xyz%\n",
    "text2:\n",
    "```\n",
    "\n",
    "Make sure you format the output so that it is easy to read."
   ]
  },
  {
   "cell_type": "code",
   "execution_count": 118,
   "metadata": {},
   "outputs": [
    {
     "name": "stdout",
     "output_type": "stream",
     "text": [
      "Text 1\n",
      "escape percentage = 0.0006729905343881338\n",
      "river percentage = 0.024395906871569853\n",
      "hat percentage = 0.3001537783371077\n",
      "Total Percentage = 0.3252226757430657\n",
      "\n",
      "Text 2\n",
      "fire percentage = 0.009004188233841342\n",
      "city percentage = 0.006560194284655835\n",
      "night percentage = 0.03215781512086193\n",
      "Total Percentage = 0.04772219763935911\n",
      "\n",
      "Text 3\n",
      "spoke percentage = 0.0077345402653720766\n",
      "walk percentage = 0.016500352566127096\n",
      "dear percentage = 0.021527803738618945\n",
      "Total Percentage = 0.04576269657011812\n"
     ]
    }
   ],
   "source": [
    "from pathlib import Path\n",
    "datasetFolder = Path(\"./dataset1\")\n",
    "\n",
    "# Text 1\n",
    "print('Text 1')\n",
    "text_1 = datasetFolder / \"adventuresOfHuckleberryFinn.txt\"\n",
    "with open(text_1, \"r\") as file_1:\n",
    "    data_1 = file_1.read()\n",
    "\n",
    "words_text1 = {'escape', 'river', 'hat'}\n",
    "total_1 = 0\n",
    "pcts_1 = []\n",
    "for word in words_text1:\n",
    "    percentage = 100 * data_1.count(word)/len(data_1)\n",
    "    total_1 = total_1 + percentage\n",
    "    pcts_1.append(percentage)\n",
    "    print(f'{word} percentage = {percentage}')\n",
    "\n",
    "print(f'Total Percentage = {total_1}')\n",
    "    \n",
    "# Text 2\n",
    "print('\\nText 2')\n",
    "text_2 = datasetFolder / \"aTaleOfTwoCities.txt\"\n",
    "with open(text_2, \"r\") as file_2:\n",
    "    data_2 = file_2.read()\n",
    "\n",
    "words_text2 = {'fire', 'city', 'night'}\n",
    "total_2 = 0\n",
    "pcts_2 = []\n",
    "for word in words_text2:\n",
    "    percentage = 100 * data_2.count(word)/len(data_2)\n",
    "    total_2 = total_2 + percentage\n",
    "    pcts_2.append(percentage)\n",
    "    print(f'{word} percentage = {percentage}')\n",
    "    \n",
    "print(f'Total Percentage = {total_2}')\n",
    "\n",
    "# Text 3\n",
    "print('\\nText 3')\n",
    "text_3 = datasetFolder / \"prideAndPrejudice.txt\"\n",
    "with open(text_3, \"r\") as file_3:\n",
    "    data_3 = file_3.read()\n",
    "\n",
    "words_text3 = {'dear', 'spoke', 'walk'}\n",
    "total_3 = 0\n",
    "pcts_3 = []\n",
    "for word in words_text3:\n",
    "    percentage = 100 * data_3.count(word)/len(data_3)\n",
    "    total_3 = total_3 + percentage\n",
    "    pcts_3.append(percentage)\n",
    "    print(f'{word} percentage = {percentage}')\n",
    "    \n",
    "print(f'Total Percentage = {total_3}')"
   ]
  },
  {
   "cell_type": "markdown",
   "metadata": {},
   "source": [
    "#### Storing to a file\n",
    "\n",
    "We learned how to open and read from a file but often we want to store our data to a file as well so that we can use it in the future. Writing to a file is very similar to reading from a file. The following code block will demonstrate how to save to a .txt file."
   ]
  },
  {
   "cell_type": "code",
   "execution_count": 74,
   "metadata": {},
   "outputs": [],
   "source": [
    "from pathlib import Path\n",
    "\n",
    "folder = Path(\"/Users/mathiasgausachs/SDA 250/\")\n",
    "filePath = folder / 'textFile.txt'\n",
    "\n",
    "# open a file like we did before\n",
    "with open(filePath, 'w') as out:\n",
    "    # now instead of calling read() we call write() to save to a file.\n",
    "    out.write(\"This line will be saved to the file.\\n\")"
   ]
  },
  {
   "cell_type": "markdown",
   "metadata": {},
   "source": [
    "As you can see saving to a file is just as easy as reading from a file and will be usefull for storing results and other data that you obtain from your programs. Saving data will become increasingly more important throughout this course as we will be dealing with more and more data. To finish the lab we will look at one other important file type and how to read and write to it. This file type is the \"csv\" format. This format is used for data that is stored in a table format like an excel spreadsheet. We will first create and write to a csv file and then we will open and read the data that we wrote.\n",
    "\n",
    "First create a new subfolder in your file system. Then in the code block we will open the csv file just as we did with the .txt files. The only difference is in how we actually write to the file. To write to a csv file we will create a \"file writer\" that we will call to write to the file."
   ]
  },
  {
   "cell_type": "code",
   "execution_count": 125,
   "metadata": {},
   "outputs": [],
   "source": [
    "from pathlib import Path\n",
    "import csv\n",
    "\n",
    "folder = Path(\"/Users/mathiasgausachs/SDA 250/Lab 2\")\n",
    "sprsPath = folder / 'sprs.csv'\n",
    "\n",
    "# finish the code to open the csv file inside the subdirectory that you created\n",
    "with open(sprsPath, 'w') as out:\n",
    "    line_writer = csv.writer(out, delimiter=',')\n",
    "    \n",
    "    line_writer.writerow(['fileName', 'word', 'wordPercentage'])\n",
    "    for (word, pct) in zip(words_text1, pcts_1):\n",
    "        line_writer.writerow(['adventuresOfHuckleberryFinn', word, pct])\n",
    "    for (word, pct) in zip(words_text2, pcts_2):\n",
    "        line_writer.writerow(['aTaleOfTwoCities', word, pct])\n",
    "    for (word, pct) in zip(words_text3, pcts_3):\n",
    "        line_writer.writerow(['prideAndPrejudice', word, pct])"
   ]
  },
  {
   "cell_type": "markdown",
   "metadata": {},
   "source": [
    "Now that we have saved our data to a csv file we want to retrieve it again so that we can do further analysis on it. Reading from a csv file is very similar to reading from a text file so just work through the following code block to learn how to do so and finish the lab."
   ]
  },
  {
   "cell_type": "code",
   "execution_count": 126,
   "metadata": {},
   "outputs": [
    {
     "name": "stdout",
     "output_type": "stream",
     "text": [
      "['fileName', 'word', 'wordPercentage']\n",
      "['adventuresOfHuckleberryFinn', 'escape', '0.0006729905343881338']\n",
      "['adventuresOfHuckleberryFinn', 'river', '0.024395906871569853']\n",
      "['adventuresOfHuckleberryFinn', 'hat', '0.3001537783371077']\n",
      "['aTaleOfTwoCities', 'fire', '0.009004188233841342']\n",
      "['aTaleOfTwoCities', 'city', '0.006560194284655835']\n",
      "['aTaleOfTwoCities', 'night', '0.03215781512086193']\n",
      "['prideAndPrejudice', 'spoke', '0.0077345402653720766']\n",
      "['prideAndPrejudice', 'walk', '0.016500352566127096']\n",
      "['prideAndPrejudice', 'dear', '0.021527803738618945']\n"
     ]
    }
   ],
   "source": [
    "# first open the file as a read only object\n",
    "with open(sprsPath, 'r') as f:\n",
    "    # here we create a reader object, similar to our writer object\n",
    "    csv_reader = csv.reader(f, delimiter=',')\n",
    "    \n",
    "    # we will now use something called a for loop to loop through each row of data\n",
    "    # we will look more at for loops in the next lab\n",
    "    for row in csv_reader:\n",
    "        # we print each row of data\n",
    "        print(row)"
   ]
  },
  {
   "cell_type": "code",
   "execution_count": null,
   "metadata": {},
   "outputs": [],
   "source": []
  }
 ],
 "metadata": {
  "kernelspec": {
   "display_name": "Python 3",
   "language": "python",
   "name": "python3"
  },
  "language_info": {
   "codemirror_mode": {
    "name": "ipython",
    "version": 3
   },
   "file_extension": ".py",
   "mimetype": "text/x-python",
   "name": "python",
   "nbconvert_exporter": "python",
   "pygments_lexer": "ipython3",
   "version": "3.8.5"
  }
 },
 "nbformat": 4,
 "nbformat_minor": 4
}
